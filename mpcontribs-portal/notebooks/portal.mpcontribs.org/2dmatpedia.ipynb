{
 "cells": [
  {
   "cell_type": "code",
   "execution_count": null,
   "metadata": {},
   "outputs": [],
   "source": [
    "import os, gzip, json\n",
    "from mpcontribs.client import Client, chunks\n",
    "from urllib.request import urlretrieve\n",
    "from monty.json import MontyDecoder\n",
    "from unflatten import unflatten\n",
    "from tqdm.notebook import tqdm"
   ]
  },
  {
   "cell_type": "code",
   "execution_count": null,
   "metadata": {},
   "outputs": [],
   "source": [
    "name = '2dmatpedia'\n",
    "client = Client()"
   ]
  },
  {
   "cell_type": "markdown",
   "metadata": {},
   "source": [
    "**Retrieve project info**"
   ]
  },
  {
   "cell_type": "code",
   "execution_count": null,
   "metadata": {},
   "outputs": [],
   "source": [
    "client.projects.update_entry(pk=name, project={\n",
    "    'unique_identifiers': False\n",
    "}).result()\n",
    "\n",
    "client.get_project(name).pretty()"
   ]
  },
  {
   "cell_type": "markdown",
   "metadata": {},
   "source": [
    "**Create contributions**"
   ]
  },
  {
   "cell_type": "code",
   "execution_count": null,
   "metadata": {},
   "outputs": [],
   "source": [
    "config = {\n",
    "    \"file\": \"http://www.2dmatpedia.org/static/db.json.gz\",\n",
    "    \"details\": \"http://www.2dmatpedia.org/2dmaterials/doc/{}\",\n",
    "    'columns': {\n",
    "        'material_id': {'name': 'details'},\n",
    "        'exfoliation_energy_per_atom': {'name': 'Eₓ', 'unit': 'eV'},\n",
    "        'energy_per_atom': {'name': 'E', 'unit': 'meV'},\n",
    "        'energy_vdw_per_atom': {'name': 'ΔEⱽᴰᵂ', 'unit': 'meV'},\n",
    "        'bandgap': {'name': 'ΔE', 'unit': 'meV'},\n",
    "    }\n",
    "}"
   ]
  },
  {
   "cell_type": "code",
   "execution_count": null,
   "metadata": {},
   "outputs": [],
   "source": [
    "dbdir = \"/Users/patrick/gitrepos/mp/MPContribs/mpcontribs-data\"\n",
    "dbfile = config['file'].rsplit('/')[-1]\n",
    "dbpath = os.path.join(dbdir, dbfile)\n",
    "raw_data = []  # as read from raw files\n",
    "\n",
    "if not os.path.exists(dbpath):\n",
    "    print('downloading', dbpath, '...')\n",
    "    urlretrieve(config['file'], dbpath)\n",
    "\n",
    "with gzip.open(dbpath, 'rb') as f:\n",
    "    for line in f:\n",
    "        raw_data.append(json.loads(line, cls=MontyDecoder))\n",
    "\n",
    "len(raw_data)"
   ]
  },
  {
   "cell_type": "code",
   "execution_count": null,
   "metadata": {},
   "outputs": [],
   "source": [
    "contributions = []\n",
    "\n",
    "for rd in tqdm(raw_data):\n",
    "    identifier = rd[\"source_id\"] \n",
    "\n",
    "    if identifier.startswith('mp-') or identifier.startswith('mvc-'):\n",
    "        data = {}\n",
    "        \n",
    "        for k, col in config['columns'].items():\n",
    "            hdr, unit = col['name'], col.get('unit')\n",
    "            if k == 'material_id':\n",
    "                data[hdr] = config[hdr].format(rd[k])\n",
    "            elif k in rd:\n",
    "                if unit:\n",
    "                    try:\n",
    "                        float(rd[k])\n",
    "                    except ValueError:\n",
    "                        continue\n",
    "                data[hdr] = f'{rd[k]} {unit}' if unit else rd[k]\n",
    "\n",
    "        contributions.append({\n",
    "            'project': name, 'is_public': True,\n",
    "            'identifier': identifier, 'data': data,\n",
    "            'structures': [rd['structure']]\n",
    "        })\n",
    "        \n",
    "        if len(contributions) == 1000:\n",
    "            break\n",
    "\n",
    "len(contributions)"
   ]
  },
  {
   "cell_type": "code",
   "execution_count": null,
   "metadata": {},
   "outputs": [],
   "source": [
    "client.delete_contributions(name)\n",
    "\n",
    "for chunk in chunks(contributions, n=100):\n",
    "    client.submit_contributions(chunk, per_page=20, ignore_dupes=True, skip_dupe_check=True)"
   ]
  }
 ],
 "metadata": {
  "kernelspec": {
   "display_name": "Python 3",
   "language": "python",
   "name": "python3"
  },
  "language_info": {
   "codemirror_mode": {
    "name": "ipython",
    "version": 3
   },
   "file_extension": ".py",
   "mimetype": "text/x-python",
   "name": "python",
   "nbconvert_exporter": "python",
   "pygments_lexer": "ipython3",
   "version": "3.8.3"
  }
 },
 "nbformat": 4,
 "nbformat_minor": 4
}
