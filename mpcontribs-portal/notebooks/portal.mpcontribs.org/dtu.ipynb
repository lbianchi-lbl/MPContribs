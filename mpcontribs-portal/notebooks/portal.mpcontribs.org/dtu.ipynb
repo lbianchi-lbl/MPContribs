{
 "cells": [
  {
   "cell_type": "code",
   "execution_count": null,
   "metadata": {},
   "outputs": [],
   "source": [
    "import os\n",
    "from ase.db import connect\n",
    "from urllib.request import urlretrieve\n",
    "from mpcontribs.client import Client\n",
    "from tqdm.notebook import tqdm"
   ]
  },
  {
   "cell_type": "code",
   "execution_count": null,
   "metadata": {},
   "outputs": [],
   "source": [
    "name = 'dtu'\n",
    "client = Client()\n",
    "db = 'https://cmr.fysik.dtu.dk/_downloads/mp_gllbsc.db'"
   ]
  },
  {
   "cell_type": "markdown",
   "metadata": {},
   "source": [
    "**Retrieve and update project info**"
   ]
  },
  {
   "cell_type": "code",
   "execution_count": null,
   "metadata": {},
   "outputs": [],
   "source": [
    "# client.projects.update_entry(pk=name, project={\n",
    "#     'references': [\n",
    "#         {\"label\": \"AEM\", \"url\": \"https://doi.org/10.1002/aenm.201400915\"},\n",
    "#         {\"label\": \"PRA\", \"url\": \"https://doi.org/10.1103/PhysRevA.51.1944\"},\n",
    "#         {\"label\": \"PRB\", \"url\": \"https://doi.org/10.1103/PhysRevB.82.115106\"},\n",
    "#         {\"label\": \"Database\", \"url\": db}\n",
    "#     ]\n",
    "# }).result()\n",
    "client.get_project(name).pretty()"
   ]
  },
  {
   "cell_type": "markdown",
   "metadata": {},
   "source": [
    "**Create contributions**"
   ]
  },
  {
   "cell_type": "code",
   "execution_count": null,
   "metadata": {},
   "outputs": [],
   "source": [
    "dbdir = \"/Users/patrick/gitrepos/mp/MPContribs/mpcontribs-data\"\n",
    "dbfile = db.rsplit('/', 1)[-1]\n",
    "dbpath = os.path.join(dbdir, dbfile)\n",
    "if not os.path.exists(dbpath):\n",
    "    urlretrieve(db, dbpath) \n",
    "\n",
    "con = connect(dbpath)\n",
    "nr_mpids = con.count(selection='mpid')\n",
    "print(nr_mpids)"
   ]
  },
  {
   "cell_type": "code",
   "execution_count": null,
   "metadata": {},
   "outputs": [],
   "source": [
    "contributions = []\n",
    "\n",
    "with tqdm(total=nr_mpids) as pbar:\n",
    "    for row in con.select('mpid'):\n",
    "        contributions.append({\n",
    "            'project': name, 'identifier': f'mp-{row.mpid}', 'is_public': True,\n",
    "            'data': {\n",
    "                'ΔE': {\n",
    "                    'KS': { # kohn-sham band gap\n",
    "                        'indirect': f'{row.gllbsc_ind_gap - row.gllbsc_disc} eV',\n",
    "                        'direct': f'{row.gllbsc_dir_gap - row.gllbsc_disc} eV'            \n",
    "                    },\n",
    "                    'QP': { # quasi particle band gap\n",
    "                        'indirect': f'{row.gllbsc_ind_gap} eV',\n",
    "                        'direct': f'{row.gllbsc_dir_gap} eV'           \n",
    "                    }\n",
    "                },\n",
    "                'C': f'{row.gllbsc_disc} eV' # derivative discontinuity\n",
    "            }\n",
    "        })\n",
    "        pbar.update(1)"
   ]
  },
  {
   "cell_type": "markdown",
   "metadata": {},
   "source": [
    "**Submit contributions**"
   ]
  },
  {
   "cell_type": "code",
   "execution_count": null,
   "metadata": {},
   "outputs": [],
   "source": [
    "# client.delete_contributions(name)\n",
    "client.submit_contributions(contributions, per_page=150)"
   ]
  },
  {
   "cell_type": "markdown",
   "metadata": {},
   "source": [
    "**Query contributions**"
   ]
  },
  {
   "cell_type": "code",
   "execution_count": null,
   "metadata": {},
   "outputs": [],
   "source": [
    "query = {\n",
    "    \"project\": name,\n",
    "    \"formula__contains\": \"Mg\",\n",
    "    \"data__C__value__gte\": 2500,\n",
    "    \"data__ΔE__QP__direct__value__gte\": 8000,\n",
    "    \"_order_by\": \"data__C__value\",\n",
    "    \"order\": \"desc\",\n",
    "    \"_fields\": [\n",
    "        \"id\", \"identifier\", \"formula\",\n",
    "        \"data.C.value\", \"data.ΔE.QP.direct.value\"\n",
    "    ]\n",
    "}\n",
    "client.contributions.get_entries(**query).result()"
   ]
  }
 ],
 "metadata": {
  "kernelspec": {
   "display_name": "Python 3",
   "language": "python",
   "name": "python3"
  },
  "language_info": {
   "codemirror_mode": {
    "name": "ipython",
    "version": 3
   },
   "file_extension": ".py",
   "mimetype": "text/x-python",
   "name": "python",
   "nbconvert_exporter": "python",
   "pygments_lexer": "ipython3",
   "version": "3.8.3"
  }
 },
 "nbformat": 4,
 "nbformat_minor": 4
}
