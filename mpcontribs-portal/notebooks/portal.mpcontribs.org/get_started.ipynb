{
 "cells": [
  {
   "cell_type": "code",
   "execution_count": null,
   "metadata": {},
   "outputs": [],
   "source": [
    "# from mp_workshop.mpcontribs import data\n",
    "from mpcontribs.client import Client"
   ]
  },
  {
   "cell_type": "code",
   "execution_count": null,
   "metadata": {},
   "outputs": [],
   "source": [
    "name = 'sandbox' # this should be your project\n",
    "client = Client() # uses MPCONTRIBS_API_KEY envvar"
   ]
  },
  {
   "cell_type": "markdown",
   "metadata": {},
   "source": [
    "**Retrieve and update project info**"
   ]
  },
  {
   "cell_type": "code",
   "execution_count": null,
   "metadata": {
    "scrolled": true
   },
   "outputs": [],
   "source": [
    "client.projects.update_entry(pk=name, project={\n",
    "#     'unique_identifiers': False,\n",
    "#     'references': [\n",
    "#         {'label': 'Docs', 'url': 'https://mpcontribs.org'},\n",
    "#         {'label': 'Source', 'url': 'https://refractiveindex.info'}\n",
    "#     ]\n",
    "    'columns': []\n",
    "}).result()"
   ]
  },
  {
   "cell_type": "code",
   "execution_count": null,
   "metadata": {},
   "outputs": [],
   "source": [
    "client.get_project(name).pretty()"
   ]
  },
  {
   "cell_type": "markdown",
   "metadata": {},
   "source": [
    "**Create contributions**"
   ]
  },
  {
   "cell_type": "code",
   "execution_count": null,
   "metadata": {},
   "outputs": [],
   "source": [
    "# key = \"bogdan\"\n",
    "contributions = []\n",
    "for _, contribs in data.items():\n",
    "    for contrib in contribs:\n",
    "        contrib[\"project\"] = name\n",
    "        contrib[\"is_public\"] = True\n",
    "        contributions.append(contrib)\n",
    "    \n",
    "len(contributions)"
   ]
  },
  {
   "cell_type": "markdown",
   "metadata": {},
   "source": [
    "**Submit contributions**"
   ]
  },
  {
   "cell_type": "code",
   "execution_count": null,
   "metadata": {},
   "outputs": [],
   "source": [
    "contributions = [\n",
    "    {\n",
    "        'identifier': 'AuCl',\n",
    "        'data': {\n",
    "            'compound': 'AuCl',\n",
    "            'phase': 'rhomb',\n",
    "            'reference': 'https://doi.org/...',\n",
    "            'T': '298 K',\n",
    "            'S': '0.0858±0.0042 kJ/deg/mol'\n",
    "            'polynomial': {\n",
    "                'D': 0\n",
    "            },\n",
    "            'ΔHᶠ': '-36.4±2.1 kJ/mol'\n",
    "        },\n",
    "        'project': name,\n",
    "        'is_public': False\n",
    "    }\n",
    "]"
   ]
  },
  {
   "cell_type": "code",
   "execution_count": 21,
   "metadata": {},
   "outputs": [
    {
     "data": {
      "application/vnd.jupyter.widget-view+json": {
       "model_id": "f95c7c81a4734ab8b0cb46addbc46131",
       "version_major": 2,
       "version_minor": 0
      },
      "text/plain": [
       "HBox(children=(FloatProgress(value=0.0, max=1.0), HTML(value='')))"
      ]
     },
     "metadata": {},
     "output_type": "display_data"
    },
    {
     "name": "stdout",
     "output_type": "stream",
     "text": [
      "\n"
     ]
    }
   ],
   "source": [
    "client.delete_contributions(name)\n",
    "# client.submit_contributions(contributions, per_page=100)\n",
    "# client.contributions.create_entries(contributions=contributions).result()"
   ]
  },
  {
   "cell_type": "code",
   "execution_count": 9,
   "metadata": {},
   "outputs": [
    {
     "data": {
      "text/plain": [
       "{'data': [], 'has_more': False, 'total_count': 0, 'total_pages': 0}"
      ]
     },
     "execution_count": 9,
     "metadata": {},
     "output_type": "execute_result"
    }
   ],
   "source": [
    "client.contributions.get_entries(project=name).result()"
   ]
  },
  {
   "cell_type": "markdown",
   "metadata": {},
   "source": [
    "**Query contributions**"
   ]
  },
  {
   "cell_type": "code",
   "execution_count": null,
   "metadata": {},
   "outputs": [],
   "source": [
    "resp = client.contributions.get_entries(\n",
    "    project=name, identifier=\"mp-1224792\", _fields=[\"id\"]\n",
    ").result()\n",
    "cids = [d[\"id\"] for d in resp[\"data\"]]\n",
    "contrib = client.get_contribution(cids[0])\n",
    "contrib.pretty()"
   ]
  },
  {
   "cell_type": "code",
   "execution_count": null,
   "metadata": {},
   "outputs": [],
   "source": [
    "tid = contrib[\"tables\"][0][\"id\"]\n",
    "client.get_table(tid)#.plot()"
   ]
  },
  {
   "cell_type": "code",
   "execution_count": null,
   "metadata": {},
   "outputs": [],
   "source": [
    "query = {\n",
    "    \"project\": name,\n",
    "    \"formula__contains\": \"Li\",\n",
    "    \"data__type__contains\": \"f4\",\n",
    "    \"data__coefficients__c1__value__gte\": 4.93e-3,\n",
    "    \"_order_by\": \"data__coefficients__c1__value\",\n",
    "    \"order\": \"desc\",\n",
    "    \"_fields\": [\n",
    "        \"id\", \"identifier\", \"formula\",\n",
    "        \"data.type\", \"data.coefficients.c0.value\",\n",
    "        \"data.coefficients.c1.value\"\n",
    "    ]\n",
    "}\n",
    "client.contributions.get_entries(**query).result()"
   ]
  },
  {
   "cell_type": "markdown",
   "metadata": {},
   "source": [
    "**Delete contributions**"
   ]
  },
  {
   "cell_type": "code",
   "execution_count": null,
   "metadata": {},
   "outputs": [],
   "source": [
    "client.contributions.delete_entries(id__in=cids).result()\n",
    "# or in your own project use `client.delete_contributions(name)`\n",
    "# to delete all contributions using pagination"
   ]
  }
 ],
 "metadata": {
  "kernelspec": {
   "display_name": "Python 3",
   "language": "python",
   "name": "python3"
  },
  "language_info": {
   "codemirror_mode": {
    "name": "ipython",
    "version": 3
   },
   "file_extension": ".py",
   "mimetype": "text/x-python",
   "name": "python",
   "nbconvert_exporter": "python",
   "pygments_lexer": "ipython3",
   "version": "3.8.3"
  }
 },
 "nbformat": 4,
 "nbformat_minor": 2
}
